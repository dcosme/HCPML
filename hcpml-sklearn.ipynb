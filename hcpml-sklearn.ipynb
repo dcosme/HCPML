{
 "cells": [
  {
   "cell_type": "markdown",
   "metadata": {},
   "source": [
    "# big ass title"
   ]
  },
  {
   "cell_type": "markdown",
   "metadata": {},
   "source": [
    "## subheader"
   ]
  },
  {
   "cell_type": "markdown",
   "metadata": {},
   "source": [
    "point\n",
    "* i\n",
    "* 2q3dq"
   ]
  },
  {
   "cell_type": "code",
   "execution_count": 4,
   "metadata": {},
   "outputs": [],
   "source": [
    "#from mvpa2.suite import *\n",
    "#from joblib import Parallel, delayed\n",
    "from HCPML_plt import clfAccHist\n",
    "import os\n",
    "import platform\n",
    "import numpy as np\n",
    "import nibabel as nib\n",
    "import multiprocessing\n",
    "#import runCV"
   ]
  },
  {
   "cell_type": "code",
   "execution_count": 25,
   "metadata": {
    "collapsed": true
   },
   "outputs": [],
   "source": [
    "import glob"
   ]
  },
  {
   "cell_type": "code",
   "execution_count": null,
   "metadata": {
    "collapsed": true
   },
   "outputs": [],
   "source": []
  },
  {
   "cell_type": "code",
   "execution_count": 9,
   "metadata": {},
   "outputs": [],
   "source": [
    "\n",
    "\n",
    "#enable output to console\n",
    "#verbose.level = 2\n",
    "\n",
    "#script_start_time = time.time()\n",
    "\n",
    "#define paths\n",
    "task      = 'WM' #motor, WM, gambling\n",
    "clf_name  = '2bkVs0bk' #lfvslh, multiclass (all 5 movements)\n",
    "#if platform.node() == 'D-128-208-56-246.dhcp4.washington.edu':\n",
    "#if platform.node() == 'Patricks-MacBook-Pro.local':\n",
    "data_path = os.path.join('/Volumes/maloneHD/Data/HCP_ML/', task)  # base directory (mac)\n",
    "beta_path = os.path.join('/Volumes/maloneHD/Data_noSync/HCP_ML/', task, 'betas/')  # beta images\n",
    "'/Users/kevinsitek/Dropbox\\ \\(MIT\\)/projects/nhw17/hcp_data_sample'\n",
    "#else:\n",
    "#    data_path = os.path.join('/media/malone/maloneHD/Data/HCP_ML/', task)  # base directory (linux)\n",
    "#    beta_path = os.path.join('/media/malone/maloneHD/Data_noSync/HCP_ML/', task, 'betas/') #beta images\n",
    "\n",
    "mvpa_path = os.path.join(data_path,'mvpa',clf_name)\n",
    "parc_path = os.path.join(data_path,'parc') #parcellations\n"
   ]
  },
  {
   "cell_type": "code",
   "execution_count": 12,
   "metadata": {},
   "outputs": [
    {
     "ename": "OSError",
     "evalue": "[Errno 2] No such file or directory: '/Volumes/maloneHD/Data_noSync/HCP_ML/WM/betas/'",
     "output_type": "error",
     "traceback": [
      "\u001b[0;31m---------------------------------------------------------------------------\u001b[0m",
      "\u001b[0;31mOSError\u001b[0m                                   Traceback (most recent call last)",
      "\u001b[0;32m<ipython-input-12-75c20d2e7fdc>\u001b[0m in \u001b[0;36m<module>\u001b[0;34m()\u001b[0m\n\u001b[1;32m     12\u001b[0m \u001b[0;34m\u001b[0m\u001b[0m\n\u001b[1;32m     13\u001b[0m \u001b[0;31m#define subjects and mask\u001b[0m\u001b[0;34m\u001b[0m\u001b[0;34m\u001b[0m\u001b[0m\n\u001b[0;32m---> 14\u001b[0;31m \u001b[0msubs\u001b[0m      \u001b[0;34m=\u001b[0m \u001b[0mos\u001b[0m\u001b[0;34m.\u001b[0m\u001b[0mlistdir\u001b[0m\u001b[0;34m(\u001b[0m\u001b[0mbeta_path\u001b[0m\u001b[0;34m)\u001b[0m\u001b[0;34m\u001b[0m\u001b[0m\n\u001b[0m\u001b[1;32m     15\u001b[0m \u001b[0msubs\u001b[0m      \u001b[0;34m=\u001b[0m \u001b[0msubs\u001b[0m\u001b[0;34m[\u001b[0m\u001b[0;34m:\u001b[0m\u001b[0mnsubs\u001b[0m\u001b[0;34m]\u001b[0m\u001b[0;34m\u001b[0m\u001b[0m\n\u001b[1;32m     16\u001b[0m \u001b[0msurf_mask\u001b[0m \u001b[0;34m=\u001b[0m \u001b[0mnp\u001b[0m\u001b[0;34m.\u001b[0m\u001b[0mones\u001b[0m\u001b[0;34m(\u001b[0m\u001b[0;34m[\u001b[0m\u001b[0;36m1\u001b[0m\u001b[0;34m,\u001b[0m\u001b[0;36m59412\u001b[0m\u001b[0;34m]\u001b[0m\u001b[0;34m)\u001b[0m \u001b[0;31m#mask for cortical surface nodes, not subcortical/cerebellum volumetric voxels\u001b[0m\u001b[0;34m\u001b[0m\u001b[0m\n",
      "\u001b[0;31mOSError\u001b[0m: [Errno 2] No such file or directory: '/Volumes/maloneHD/Data_noSync/HCP_ML/WM/betas/'"
     ]
    }
   ],
   "source": [
    "\n",
    "#analysis parameters\n",
    "nsubs    = 100 #number of subjects\n",
    "nparc    = 360 #number of parcels/ROIs\n",
    "clf_type = 'SVM' #KNN, SVM\n",
    "knn_k    = round(np.sqrt(nsubs)) #k-nearest-neighbor parameter\n",
    "cv_type  = 'nfld' #split_half, LOSO (leave-one-subject-out), nfld (n-fold)\n",
    "targets  = ['2BK','0BK']\n",
    "pe_num   = ['9','10']\n",
    "#targets  = ['lf','lh','rf','rh','t'] #targets to be classified\n",
    "#pe_num   = ['2','3','4','5','6'] #parameter estimate numbers corresponding to targets\n",
    "\n",
    "#define subjects and mask\n",
    "subs      = os.listdir(beta_path)\n",
    "subs      = subs[:nsubs]\n",
    "#surf_mask = np.ones([1,59412]) #mask for cortical surface nodes, not subcortical/cerebellum volumetric voxels\n",
    "#msk_path  = os.path.join(parc_path, 'Glasser_360.dtseries.nii')\n",
    "#msk       = nib.load(msk_path)\n",
    "#msk_data  = msk.get_data()\n",
    "#msk_data  = msk_data[0, 0, 0, 0, 0, 0:]  #last dimension contains parcel data\n"
   ]
  },
  {
   "cell_type": "code",
   "execution_count": 96,
   "metadata": {
    "scrolled": true
   },
   "outputs": [
    {
     "name": "stderr",
     "output_type": "stream",
     "text": [
      "pixdim[1,2,3] should be non-zero; setting 0 dims to 1\n",
      "pixdim[1,2,3] should be non-zero; setting 0 dims to 1\n",
      "pixdim[1,2,3] should be non-zero; setting 0 dims to 1\n",
      "pixdim[1,2,3] should be non-zero; setting 0 dims to 1\n",
      "pixdim[1,2,3] should be non-zero; setting 0 dims to 1\n",
      "pixdim[1,2,3] should be non-zero; setting 0 dims to 1\n",
      "pixdim[1,2,3] should be non-zero; setting 0 dims to 1\n",
      "pixdim[1,2,3] should be non-zero; setting 0 dims to 1\n",
      "pixdim[1,2,3] should be non-zero; setting 0 dims to 1\n",
      "pixdim[1,2,3] should be non-zero; setting 0 dims to 1\n",
      "pixdim[1,2,3] should be non-zero; setting 0 dims to 1\n",
      "pixdim[1,2,3] should be non-zero; setting 0 dims to 1\n",
      "pixdim[1,2,3] should be non-zero; setting 0 dims to 1\n",
      "pixdim[1,2,3] should be non-zero; setting 0 dims to 1\n",
      "pixdim[1,2,3] should be non-zero; setting 0 dims to 1\n",
      "pixdim[1,2,3] should be non-zero; setting 0 dims to 1\n",
      "pixdim[1,2,3] should be non-zero; setting 0 dims to 1\n",
      "pixdim[1,2,3] should be non-zero; setting 0 dims to 1\n",
      "pixdim[1,2,3] should be non-zero; setting 0 dims to 1\n",
      "pixdim[1,2,3] should be non-zero; setting 0 dims to 1\n",
      "pixdim[1,2,3] should be non-zero; setting 0 dims to 1\n"
     ]
    },
    {
     "name": "stdout",
     "output_type": "stream",
     "text": [
      "/Users/kevinsitek/Dropbox (MIT)/projects/nhw17/hcp_data_sample/100206\n",
      "/Users/kevinsitek/Dropbox (MIT)/projects/nhw17/hcp_data_sample/100307\n",
      "/Users/kevinsitek/Dropbox (MIT)/projects/nhw17/hcp_data_sample/100408\n",
      "/Users/kevinsitek/Dropbox (MIT)/projects/nhw17/hcp_data_sample/100610\n",
      "/Users/kevinsitek/Dropbox (MIT)/projects/nhw17/hcp_data_sample/101006\n",
      "/Users/kevinsitek/Dropbox (MIT)/projects/nhw17/hcp_data_sample/101107\n",
      "/Users/kevinsitek/Dropbox (MIT)/projects/nhw17/hcp_data_sample/101309\n",
      "/Users/kevinsitek/Dropbox (MIT)/projects/nhw17/hcp_data_sample/101410\n",
      "/Users/kevinsitek/Dropbox (MIT)/projects/nhw17/hcp_data_sample/101915\n",
      "/Users/kevinsitek/Dropbox (MIT)/projects/nhw17/hcp_data_sample/102008\n",
      "/Users/kevinsitek/Dropbox (MIT)/projects/nhw17/hcp_data_sample/102109\n"
     ]
    },
    {
     "name": "stderr",
     "output_type": "stream",
     "text": [
      "pixdim[1,2,3] should be non-zero; setting 0 dims to 1\n",
      "pixdim[1,2,3] should be non-zero; setting 0 dims to 1\n",
      "pixdim[1,2,3] should be non-zero; setting 0 dims to 1\n",
      "pixdim[1,2,3] should be non-zero; setting 0 dims to 1\n",
      "pixdim[1,2,3] should be non-zero; setting 0 dims to 1\n",
      "pixdim[1,2,3] should be non-zero; setting 0 dims to 1\n",
      "pixdim[1,2,3] should be non-zero; setting 0 dims to 1\n",
      "pixdim[1,2,3] should be non-zero; setting 0 dims to 1\n",
      "pixdim[1,2,3] should be non-zero; setting 0 dims to 1\n",
      "pixdim[1,2,3] should be non-zero; setting 0 dims to 1\n",
      "pixdim[1,2,3] should be non-zero; setting 0 dims to 1\n",
      "pixdim[1,2,3] should be non-zero; setting 0 dims to 1\n",
      "pixdim[1,2,3] should be non-zero; setting 0 dims to 1\n"
     ]
    },
    {
     "name": "stdout",
     "output_type": "stream",
     "text": [
      "/Users/kevinsitek/Dropbox (MIT)/projects/nhw17/hcp_data_sample/102311\n",
      "/Users/kevinsitek/Dropbox (MIT)/projects/nhw17/hcp_data_sample/102513\n",
      "/Users/kevinsitek/Dropbox (MIT)/projects/nhw17/hcp_data_sample/102614\n",
      "/Users/kevinsitek/Dropbox (MIT)/projects/nhw17/hcp_data_sample/102715\n",
      "/Users/kevinsitek/Dropbox (MIT)/projects/nhw17/hcp_data_sample/102816\n",
      "/Users/kevinsitek/Dropbox (MIT)/projects/nhw17/hcp_data_sample/103010\n"
     ]
    },
    {
     "name": "stderr",
     "output_type": "stream",
     "text": [
      "pixdim[1,2,3] should be non-zero; setting 0 dims to 1\n",
      "pixdim[1,2,3] should be non-zero; setting 0 dims to 1\n",
      "pixdim[1,2,3] should be non-zero; setting 0 dims to 1\n",
      "pixdim[1,2,3] should be non-zero; setting 0 dims to 1\n"
     ]
    },
    {
     "name": "stdout",
     "output_type": "stream",
     "text": [
      "/Users/kevinsitek/Dropbox (MIT)/projects/nhw17/hcp_data_sample/103212\n",
      "/Users/kevinsitek/Dropbox (MIT)/projects/nhw17/hcp_data_sample/103414\n"
     ]
    }
   ],
   "source": [
    "group_data = np.empty((0, 91282))\n",
    "sub_list=[]\n",
    "cx_list=[]\n",
    "datapath = os.path.abspath('/Users/kevinsitek/Dropbox (MIT)/projects/nhw17/hcp_data_sample/')\n",
    "for sx, subpath in enumerate(glob.glob(datapath+'/*')):\n",
    "    print subpath\n",
    "    for cx,cope in enumerate(['9','10']):\n",
    "        sub_list.append(sx+1)\n",
    "        cx_list.append(cx)\n",
    "        fpath = os.path.join(subpath, 'MNINonLinear/Results/',\n",
    "                             'tfMRI_WM/tfMRI_WM_hp200_s2_level2.feat/',\n",
    "                             'GrayordinatesStats/cope%s.feat/pe1.dtseries.nii'%(cope))\n",
    "        pe1 = nib.load(fpath)\n",
    "        sub_data = np.array(pe1.get_data().reshape(pe1.get_data().shape[4:]))\n",
    "\n",
    "        group_data = np.concatenate((group_data, sub_data),axis=0)"
   ]
  },
  {
   "cell_type": "code",
   "execution_count": 88,
   "metadata": {},
   "outputs": [
    {
     "data": {
      "text/plain": [
       "18"
      ]
     },
     "execution_count": 88,
     "metadata": {},
     "output_type": "execute_result"
    }
   ],
   "source": [
    "sx"
   ]
  },
  {
   "cell_type": "code",
   "execution_count": 112,
   "metadata": {},
   "outputs": [
    {
     "data": {
      "text/plain": [
       "array([0, 1, 0, 1, 0, 1, 0, 1, 0, 1, 0, 1, 0, 1, 0, 1, 0, 1, 0, 1, 0, 1, 0,\n",
       "       1, 0, 1, 0, 1, 0, 1, 0, 1, 0, 1, 0, 1, 0, 1])"
      ]
     },
     "execution_count": 112,
     "metadata": {},
     "output_type": "execute_result"
    }
   ],
   "source": [
    "np.array(cx_list)"
   ]
  },
  {
   "cell_type": "code",
   "execution_count": null,
   "metadata": {
    "collapsed": true
   },
   "outputs": [],
   "source": []
  },
  {
   "cell_type": "code",
   "execution_count": 119,
   "metadata": {},
   "outputs": [
    {
     "data": {
      "text/plain": [
       "numpy.ndarray"
      ]
     },
     "execution_count": 119,
     "metadata": {},
     "output_type": "execute_result"
    }
   ],
   "source": [
    "type(np.array(cx_list))"
   ]
  },
  {
   "cell_type": "code",
   "execution_count": 125,
   "metadata": {},
   "outputs": [
    {
     "name": "stdout",
     "output_type": "stream",
     "text": [
      "(38,)\n",
      "(38, 91282)\n"
     ]
    }
   ],
   "source": [
    "print np.array(cx_list).shape\n",
    "print group_data.shape"
   ]
  },
  {
   "cell_type": "code",
   "execution_count": 124,
   "metadata": {},
   "outputs": [
    {
     "ename": "TypeError",
     "evalue": "Singleton array array(1) cannot be considered a valid collection.",
     "output_type": "error",
     "traceback": [
      "\u001b[0;31m---------------------------------------------------------------------------\u001b[0m",
      "\u001b[0;31mTypeError\u001b[0m                                 Traceback (most recent call last)",
      "\u001b[0;32m<ipython-input-124-b8022eef53d0>\u001b[0m in \u001b[0;36m<module>\u001b[0;34m()\u001b[0m\n\u001b[1;32m      3\u001b[0m Xtrain, Xtest, Ytrain, Ytest = train_test_split(group_data, \n\u001b[1;32m      4\u001b[0m                                                 \u001b[0mcx\u001b[0m\u001b[0;34m,\u001b[0m\u001b[0;34m\u001b[0m\u001b[0m\n\u001b[0;32m----> 5\u001b[0;31m                                                 test_size=.5, random_state=22)\n\u001b[0m",
      "\u001b[0;32m/Users/kevinsitek/miniconda/lib/python2.7/site-packages/sklearn/model_selection/_split.pyc\u001b[0m in \u001b[0;36mtrain_test_split\u001b[0;34m(*arrays, **options)\u001b[0m\n\u001b[1;32m   1687\u001b[0m         \u001b[0mtest_size\u001b[0m \u001b[0;34m=\u001b[0m \u001b[0;36m0.25\u001b[0m\u001b[0;34m\u001b[0m\u001b[0m\n\u001b[1;32m   1688\u001b[0m \u001b[0;34m\u001b[0m\u001b[0m\n\u001b[0;32m-> 1689\u001b[0;31m     \u001b[0marrays\u001b[0m \u001b[0;34m=\u001b[0m \u001b[0mindexable\u001b[0m\u001b[0;34m(\u001b[0m\u001b[0;34m*\u001b[0m\u001b[0marrays\u001b[0m\u001b[0;34m)\u001b[0m\u001b[0;34m\u001b[0m\u001b[0m\n\u001b[0m\u001b[1;32m   1690\u001b[0m \u001b[0;34m\u001b[0m\u001b[0m\n\u001b[1;32m   1691\u001b[0m     \u001b[0;32mif\u001b[0m \u001b[0mstratify\u001b[0m \u001b[0;32mis\u001b[0m \u001b[0;32mnot\u001b[0m \u001b[0mNone\u001b[0m\u001b[0;34m:\u001b[0m\u001b[0;34m\u001b[0m\u001b[0m\n",
      "\u001b[0;32m/Users/kevinsitek/miniconda/lib/python2.7/site-packages/sklearn/utils/validation.pyc\u001b[0m in \u001b[0;36mindexable\u001b[0;34m(*iterables)\u001b[0m\n\u001b[1;32m    204\u001b[0m         \u001b[0;32melse\u001b[0m\u001b[0;34m:\u001b[0m\u001b[0;34m\u001b[0m\u001b[0m\n\u001b[1;32m    205\u001b[0m             \u001b[0mresult\u001b[0m\u001b[0;34m.\u001b[0m\u001b[0mappend\u001b[0m\u001b[0;34m(\u001b[0m\u001b[0mnp\u001b[0m\u001b[0;34m.\u001b[0m\u001b[0marray\u001b[0m\u001b[0;34m(\u001b[0m\u001b[0mX\u001b[0m\u001b[0;34m)\u001b[0m\u001b[0;34m)\u001b[0m\u001b[0;34m\u001b[0m\u001b[0m\n\u001b[0;32m--> 206\u001b[0;31m     \u001b[0mcheck_consistent_length\u001b[0m\u001b[0;34m(\u001b[0m\u001b[0;34m*\u001b[0m\u001b[0mresult\u001b[0m\u001b[0;34m)\u001b[0m\u001b[0;34m\u001b[0m\u001b[0m\n\u001b[0m\u001b[1;32m    207\u001b[0m     \u001b[0;32mreturn\u001b[0m \u001b[0mresult\u001b[0m\u001b[0;34m\u001b[0m\u001b[0m\n\u001b[1;32m    208\u001b[0m \u001b[0;34m\u001b[0m\u001b[0m\n",
      "\u001b[0;32m/Users/kevinsitek/miniconda/lib/python2.7/site-packages/sklearn/utils/validation.pyc\u001b[0m in \u001b[0;36mcheck_consistent_length\u001b[0;34m(*arrays)\u001b[0m\n\u001b[1;32m    175\u001b[0m     \"\"\"\n\u001b[1;32m    176\u001b[0m \u001b[0;34m\u001b[0m\u001b[0m\n\u001b[0;32m--> 177\u001b[0;31m     \u001b[0mlengths\u001b[0m \u001b[0;34m=\u001b[0m \u001b[0;34m[\u001b[0m\u001b[0m_num_samples\u001b[0m\u001b[0;34m(\u001b[0m\u001b[0mX\u001b[0m\u001b[0;34m)\u001b[0m \u001b[0;32mfor\u001b[0m \u001b[0mX\u001b[0m \u001b[0;32min\u001b[0m \u001b[0marrays\u001b[0m \u001b[0;32mif\u001b[0m \u001b[0mX\u001b[0m \u001b[0;32mis\u001b[0m \u001b[0;32mnot\u001b[0m \u001b[0mNone\u001b[0m\u001b[0;34m]\u001b[0m\u001b[0;34m\u001b[0m\u001b[0m\n\u001b[0m\u001b[1;32m    178\u001b[0m     \u001b[0muniques\u001b[0m \u001b[0;34m=\u001b[0m \u001b[0mnp\u001b[0m\u001b[0;34m.\u001b[0m\u001b[0munique\u001b[0m\u001b[0;34m(\u001b[0m\u001b[0mlengths\u001b[0m\u001b[0;34m)\u001b[0m\u001b[0;34m\u001b[0m\u001b[0m\n\u001b[1;32m    179\u001b[0m     \u001b[0;32mif\u001b[0m \u001b[0mlen\u001b[0m\u001b[0;34m(\u001b[0m\u001b[0muniques\u001b[0m\u001b[0;34m)\u001b[0m \u001b[0;34m>\u001b[0m \u001b[0;36m1\u001b[0m\u001b[0;34m:\u001b[0m\u001b[0;34m\u001b[0m\u001b[0m\n",
      "\u001b[0;32m/Users/kevinsitek/miniconda/lib/python2.7/site-packages/sklearn/utils/validation.pyc\u001b[0m in \u001b[0;36m_num_samples\u001b[0;34m(x)\u001b[0m\n\u001b[1;32m    124\u001b[0m         \u001b[0;32mif\u001b[0m \u001b[0mlen\u001b[0m\u001b[0;34m(\u001b[0m\u001b[0mx\u001b[0m\u001b[0;34m.\u001b[0m\u001b[0mshape\u001b[0m\u001b[0;34m)\u001b[0m \u001b[0;34m==\u001b[0m \u001b[0;36m0\u001b[0m\u001b[0;34m:\u001b[0m\u001b[0;34m\u001b[0m\u001b[0m\n\u001b[1;32m    125\u001b[0m             raise TypeError(\"Singleton array %r cannot be considered\"\n\u001b[0;32m--> 126\u001b[0;31m                             \" a valid collection.\" % x)\n\u001b[0m\u001b[1;32m    127\u001b[0m         \u001b[0;32mreturn\u001b[0m \u001b[0mx\u001b[0m\u001b[0;34m.\u001b[0m\u001b[0mshape\u001b[0m\u001b[0;34m[\u001b[0m\u001b[0;36m0\u001b[0m\u001b[0;34m]\u001b[0m\u001b[0;34m\u001b[0m\u001b[0m\n\u001b[1;32m    128\u001b[0m     \u001b[0;32melse\u001b[0m\u001b[0;34m:\u001b[0m\u001b[0;34m\u001b[0m\u001b[0m\n",
      "\u001b[0;31mTypeError\u001b[0m: Singleton array array(1) cannot be considered a valid collection."
     ]
    }
   ],
   "source": [
    "from sklearn.model_selection import train_test_split\n",
    "\n",
    "Xtrain, Xtest, Ytrain, Ytest = train_test_split(group_data, \n",
    "                                                cx, \n",
    "                                                test_size=.5, random_state=22)"
   ]
  },
  {
   "cell_type": "code",
   "execution_count": null,
   "metadata": {
    "collapsed": true
   },
   "outputs": [],
   "source": []
  },
  {
   "cell_type": "code",
   "execution_count": null,
   "metadata": {
    "collapsed": true
   },
   "outputs": [],
   "source": [
    "\n",
    "#load beta imgs\n",
    "ds_all = []\n",
    "for index, s in enumerate(subs):\n",
    "    tds_beta_path = os.path.join(beta_path, s,\n",
    "                                 'MNINonLinear', 'Results', 'tfMRI_'+task,\n",
    "                                 'tfMRI_'+task+'_hp200_s2_level2.feat',\n",
    "                                 'GrayordinatesStats')\n",
    "    pe_paths = []\n",
    "    for p in pe_num:\n",
    "        pe_paths.append(os.path.join(tds_beta_path,\n",
    "                                     'cope'+p+'.feat','pe1.dtseries.nii'))\n",
    "\n",
    "    ds = fmri_dataset(pe_paths,targets=targets,mask=surf_mask)\n",
    "\n",
    "    ds.sa['subject'] = np.repeat(index, len(ds))\n",
    "    ds.fa['parcel']  = msk_data\n",
    "    ds_all.append(ds)\n",
    "    verbose(2, \"subject %i of %i loaded\" % (index, nsubs))\n",
    "\n",
    "fds = vstack(ds_all) #stack datasets\n"
   ]
  },
  {
   "cell_type": "code",
   "execution_count": null,
   "metadata": {
    "collapsed": true
   },
   "outputs": [],
   "source": [
    "\n",
    "#classifier algorithm\n",
    "if clf_type is 'SVM':\n",
    "    clf = LinearCSVMC()\n",
    "elif clf_type is 'KNN':\n",
    "    clf = kNN(k=knn_k, voting='weighted')\n",
    "#cross-validation algorithm\n",
    "if cv_type is 'split_half':\n",
    "    cv = CrossValidation(clf,\n",
    "                         HalfPartitioner(count=2,\n",
    "                                         selection_strategy='random', attr='subject'),\n",
    "                         errorfx=mean_match_accuracy)\n",
    "elif cv_type is 'LOSO':\n",
    "    cv = CrossValidation(clf,\n",
    "                         NFoldPartitioner(attr='subject'),\n",
    "                         errorfx=mean_match_accuracy)\n",
    "elif cv_type is 'nfld':\n",
    "    cv = CrossValidation(clf,\n",
    "                         NFoldPartitioner(count=5,\n",
    "                                         selection_strategy='random', attr='subject'),\n",
    "                         errorfx=mean_match_accuracy)"
   ]
  },
  {
   "cell_type": "code",
   "execution_count": null,
   "metadata": {
    "collapsed": true
   },
   "outputs": [],
   "source": [
    "\n",
    "#run classification\n",
    "parc       = range(1,nparc+1)\n",
    "cv_results = [0 for x in parc]\n",
    "num_cores  = multiprocessing.cpu_count()\n",
    "#whole brain clf\n",
    "cv_out = cv(fds)\n",
    "#roi-wise clf\n",
    "# cv_results = Parallel(n_jobs=num_cores)(delayed(runCV.runCV)\n",
    "#                                         (p,fds[:, fds.fa.parcel == p],clf,cv,nparc) for p in parc)\n"
   ]
  },
  {
   "cell_type": "code",
   "execution_count": null,
   "metadata": {
    "collapsed": true
   },
   "outputs": [],
   "source": [
    "#get feature weights\n",
    "sensana = clf.get_sensitivity_analyzer()\n",
    "sens    = sensana(fds)\n",
    "\n",
    "\n",
    "#verbose(2, \"total script computation time: %.1f minutes\" % ((time.time() - script_start_time)/60))\n"
   ]
  },
  {
   "cell_type": "code",
   "execution_count": null,
   "metadata": {
    "collapsed": true
   },
   "outputs": [],
   "source": [
    "#convert feature weights to numpy array and save\n",
    "sens_out = np.asarray(sens)\n",
    "np.save(os.path.join(mvpa_path,'cv_results',str(nsubs)+'subs_'+cv_type+'_CV_'+clf_type+'ftrWghts'),\n",
    "        sens_out)"
   ]
  }
 ],
 "metadata": {
  "kernelspec": {
   "display_name": "Python 2",
   "language": "python",
   "name": "python2"
  },
  "language_info": {
   "codemirror_mode": {
    "name": "ipython",
    "version": 2
   },
   "file_extension": ".py",
   "mimetype": "text/x-python",
   "name": "python",
   "nbconvert_exporter": "python",
   "pygments_lexer": "ipython2",
   "version": "2.7.13"
  },
  "toc": {
   "nav_menu": {},
   "number_sections": true,
   "sideBar": true,
   "skip_h1_title": false,
   "toc_cell": false,
   "toc_position": {},
   "toc_section_display": "block",
   "toc_window_display": false
  }
 },
 "nbformat": 4,
 "nbformat_minor": 2
}
