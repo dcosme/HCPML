{
 "cells": [
  {
   "cell_type": "code",
   "execution_count": 4,
   "metadata": {},
   "outputs": [],
   "source": [
    "from HCPML_plt import clfAccHist\n",
    "import os\n",
    "import platform\n",
    "import numpy as np\n",
    "import nibabel as nib\n",
    "import multiprocessing\n",
    "import glob"
   ]
  },
  {
   "cell_type": "code",
   "execution_count": 25,
   "metadata": {
    "collapsed": true
   },
   "outputs": [],
   "source": [
    "# location of the data on disk:\n",
    "datapath = os.path.abspath('/Users/kevinsitek/Dropbox (MIT)/projects/nhw17/hcp_data_sample/')"
   ]
  },
  {
   "cell_type": "markdown",
   "metadata": {},
   "source": [
    "Import the data"
   ]
  },
  {
   "cell_type": "code",
   "execution_count": 140,
   "metadata": {
    "scrolled": true
   },
   "outputs": [
    {
     "name": "stderr",
     "output_type": "stream",
     "text": [
      "pixdim[1,2,3] should be non-zero; setting 0 dims to 1\n",
      "pixdim[1,2,3] should be non-zero; setting 0 dims to 1\n",
      "pixdim[1,2,3] should be non-zero; setting 0 dims to 1\n",
      "pixdim[1,2,3] should be non-zero; setting 0 dims to 1\n",
      "pixdim[1,2,3] should be non-zero; setting 0 dims to 1\n",
      "pixdim[1,2,3] should be non-zero; setting 0 dims to 1\n",
      "pixdim[1,2,3] should be non-zero; setting 0 dims to 1\n",
      "pixdim[1,2,3] should be non-zero; setting 0 dims to 1\n",
      "pixdim[1,2,3] should be non-zero; setting 0 dims to 1\n",
      "pixdim[1,2,3] should be non-zero; setting 0 dims to 1\n",
      "pixdim[1,2,3] should be non-zero; setting 0 dims to 1\n",
      "pixdim[1,2,3] should be non-zero; setting 0 dims to 1\n",
      "pixdim[1,2,3] should be non-zero; setting 0 dims to 1\n",
      "pixdim[1,2,3] should be non-zero; setting 0 dims to 1\n",
      "pixdim[1,2,3] should be non-zero; setting 0 dims to 1\n",
      "pixdim[1,2,3] should be non-zero; setting 0 dims to 1\n",
      "pixdim[1,2,3] should be non-zero; setting 0 dims to 1\n",
      "pixdim[1,2,3] should be non-zero; setting 0 dims to 1\n",
      "pixdim[1,2,3] should be non-zero; setting 0 dims to 1\n",
      "pixdim[1,2,3] should be non-zero; setting 0 dims to 1\n",
      "pixdim[1,2,3] should be non-zero; setting 0 dims to 1\n",
      "pixdim[1,2,3] should be non-zero; setting 0 dims to 1\n",
      "pixdim[1,2,3] should be non-zero; setting 0 dims to 1\n",
      "pixdim[1,2,3] should be non-zero; setting 0 dims to 1\n",
      "pixdim[1,2,3] should be non-zero; setting 0 dims to 1\n",
      "pixdim[1,2,3] should be non-zero; setting 0 dims to 1\n"
     ]
    },
    {
     "name": "stdout",
     "output_type": "stream",
     "text": [
      "/Users/kevinsitek/Dropbox (MIT)/projects/nhw17/hcp_data_sample/100206\n",
      "/Users/kevinsitek/Dropbox (MIT)/projects/nhw17/hcp_data_sample/100307\n",
      "/Users/kevinsitek/Dropbox (MIT)/projects/nhw17/hcp_data_sample/100408\n",
      "/Users/kevinsitek/Dropbox (MIT)/projects/nhw17/hcp_data_sample/100610\n",
      "/Users/kevinsitek/Dropbox (MIT)/projects/nhw17/hcp_data_sample/101006\n",
      "/Users/kevinsitek/Dropbox (MIT)/projects/nhw17/hcp_data_sample/101107\n",
      "/Users/kevinsitek/Dropbox (MIT)/projects/nhw17/hcp_data_sample/101309\n",
      "/Users/kevinsitek/Dropbox (MIT)/projects/nhw17/hcp_data_sample/101410\n",
      "/Users/kevinsitek/Dropbox (MIT)/projects/nhw17/hcp_data_sample/101915\n",
      "/Users/kevinsitek/Dropbox (MIT)/projects/nhw17/hcp_data_sample/102008\n",
      "/Users/kevinsitek/Dropbox (MIT)/projects/nhw17/hcp_data_sample/102109\n",
      "/Users/kevinsitek/Dropbox (MIT)/projects/nhw17/hcp_data_sample/102311\n",
      "/Users/kevinsitek/Dropbox (MIT)/projects/nhw17/hcp_data_sample/102513\n"
     ]
    },
    {
     "name": "stderr",
     "output_type": "stream",
     "text": [
      "pixdim[1,2,3] should be non-zero; setting 0 dims to 1\n",
      "pixdim[1,2,3] should be non-zero; setting 0 dims to 1\n",
      "pixdim[1,2,3] should be non-zero; setting 0 dims to 1\n",
      "pixdim[1,2,3] should be non-zero; setting 0 dims to 1\n",
      "pixdim[1,2,3] should be non-zero; setting 0 dims to 1\n",
      "pixdim[1,2,3] should be non-zero; setting 0 dims to 1\n",
      "pixdim[1,2,3] should be non-zero; setting 0 dims to 1\n",
      "pixdim[1,2,3] should be non-zero; setting 0 dims to 1\n",
      "pixdim[1,2,3] should be non-zero; setting 0 dims to 1\n",
      "pixdim[1,2,3] should be non-zero; setting 0 dims to 1\n",
      "pixdim[1,2,3] should be non-zero; setting 0 dims to 1\n",
      "pixdim[1,2,3] should be non-zero; setting 0 dims to 1\n"
     ]
    },
    {
     "name": "stdout",
     "output_type": "stream",
     "text": [
      "/Users/kevinsitek/Dropbox (MIT)/projects/nhw17/hcp_data_sample/102614\n",
      "/Users/kevinsitek/Dropbox (MIT)/projects/nhw17/hcp_data_sample/102715\n",
      "/Users/kevinsitek/Dropbox (MIT)/projects/nhw17/hcp_data_sample/102816\n",
      "/Users/kevinsitek/Dropbox (MIT)/projects/nhw17/hcp_data_sample/103010\n",
      "/Users/kevinsitek/Dropbox (MIT)/projects/nhw17/hcp_data_sample/103212\n",
      "/Users/kevinsitek/Dropbox (MIT)/projects/nhw17/hcp_data_sample/103414\n"
     ]
    }
   ],
   "source": [
    "sub_list=[]\n",
    "cx_list=[]\n",
    "\n",
    "# add each subject to the data array:\n",
    "for sx, subpath in enumerate(glob.glob(datapath+'/*')):    \n",
    "    # for each of the two contrasts:\n",
    "    for cx,cope in enumerate(['9','10']):\n",
    "        sub_list.append(sx+1) # save the subject index to a subject list\n",
    "        cx_list.append(cx) # save the contrast to a contrast list\n",
    "        \n",
    "        # load the parameter estimates\n",
    "        fpath = os.path.join(subpath, 'MNINonLinear/Results/tfMRI_WM/',\n",
    "                             'tfMRI_WM_hp200_s2_level2.feat/GrayordinatesStats/',\n",
    "                             'cope%s.feat/pe1.dtseries.nii'%(cope))\n",
    "        pe1 = nib.load(fpath)\n",
    "        \n",
    "        # reshape the data into a 2-D array\n",
    "        sub_c_data = np.array(pe1.get_data().reshape(pe1.get_data().shape[4:]))\n",
    "        \n",
    "        # add the parameter estimate data to the overall data matrix\n",
    "        if not sx and not cx:\n",
    "            group_data = sub_c_data\n",
    "        else:\n",
    "            group_data = np.concatenate((group_data, sub_data),axis=0)"
   ]
  },
  {
   "cell_type": "markdown",
   "metadata": {},
   "source": [
    "Check the data"
   ]
  },
  {
   "cell_type": "code",
   "execution_count": 141,
   "metadata": {},
   "outputs": [
    {
     "data": {
      "text/plain": [
       "(38, 91282)"
      ]
     },
     "execution_count": 141,
     "metadata": {},
     "output_type": "execute_result"
    }
   ],
   "source": [
    "group_data.shape"
   ]
  },
  {
   "cell_type": "code",
   "execution_count": 112,
   "metadata": {},
   "outputs": [
    {
     "data": {
      "text/plain": [
       "array([0, 1, 0, 1, 0, 1, 0, 1, 0, 1, 0, 1, 0, 1, 0, 1, 0, 1, 0, 1, 0, 1, 0,\n",
       "       1, 0, 1, 0, 1, 0, 1, 0, 1, 0, 1, 0, 1, 0, 1])"
      ]
     },
     "execution_count": 112,
     "metadata": {},
     "output_type": "execute_result"
    }
   ],
   "source": [
    "np.array(cx_list)"
   ]
  },
  {
   "cell_type": "code",
   "execution_count": 146,
   "metadata": {},
   "outputs": [
    {
     "name": "stdout",
     "output_type": "stream",
     "text": [
      "x shape:  (91282, 38)\n",
      "y shape:  38\n"
     ]
    }
   ],
   "source": [
    "print 'x shape: ', group_data.T.shape\n",
    "print 'y shape: ', len(cx_list)"
   ]
  },
  {
   "cell_type": "markdown",
   "metadata": {},
   "source": [
    "Split the data for a master holdout test data set"
   ]
  },
  {
   "cell_type": "code",
   "execution_count": 142,
   "metadata": {},
   "outputs": [],
   "source": [
    "from sklearn.model_selection import train_test_split\n",
    "\n",
    "Xtrain, Xtest, Ytrain, Ytest = train_test_split(group_data, \n",
    "                                                cx_list, \n",
    "                                                test_size=.5, random_state=22)"
   ]
  },
  {
   "cell_type": "code",
   "execution_count": null,
   "metadata": {
    "collapsed": true
   },
   "outputs": [],
   "source": [
    "\n",
    "#load beta imgs\n",
    "ds_all = []\n",
    "for index, s in enumerate(subs):\n",
    "    tds_beta_path = os.path.join(beta_path, s,\n",
    "                                 'MNINonLinear', 'Results', 'tfMRI_'+task,\n",
    "                                 'tfMRI_'+task+'_hp200_s2_level2.feat',\n",
    "                                 'GrayordinatesStats')\n",
    "    pe_paths = []\n",
    "    for p in pe_num:\n",
    "        pe_paths.append(os.path.join(tds_beta_path,\n",
    "                                     'cope'+p+'.feat','pe1.dtseries.nii'))\n",
    "\n",
    "    ds = fmri_dataset(pe_paths,targets=targets,mask=surf_mask)\n",
    "\n",
    "    ds.sa['subject'] = np.repeat(index, len(ds))\n",
    "    ds.fa['parcel']  = msk_data\n",
    "    ds_all.append(ds)\n",
    "    verbose(2, \"subject %i of %i loaded\" % (index, nsubs))\n",
    "\n",
    "fds = vstack(ds_all) #stack datasets\n"
   ]
  },
  {
   "cell_type": "code",
   "execution_count": null,
   "metadata": {
    "collapsed": true
   },
   "outputs": [],
   "source": [
    "\n",
    "#classifier algorithm\n",
    "if clf_type is 'SVM':\n",
    "    clf = LinearCSVMC()\n",
    "elif clf_type is 'KNN':\n",
    "    clf = kNN(k=knn_k, voting='weighted')\n",
    "#cross-validation algorithm\n",
    "if cv_type is 'split_half':\n",
    "    cv = CrossValidation(clf,\n",
    "                         HalfPartitioner(count=2,\n",
    "                                         selection_strategy='random', attr='subject'),\n",
    "                         errorfx=mean_match_accuracy)\n",
    "elif cv_type is 'LOSO':\n",
    "    cv = CrossValidation(clf,\n",
    "                         NFoldPartitioner(attr='subject'),\n",
    "                         errorfx=mean_match_accuracy)\n",
    "elif cv_type is 'nfld':\n",
    "    cv = CrossValidation(clf,\n",
    "                         NFoldPartitioner(count=5,\n",
    "                                         selection_strategy='random', attr='subject'),\n",
    "                         errorfx=mean_match_accuracy)"
   ]
  },
  {
   "cell_type": "code",
   "execution_count": null,
   "metadata": {
    "collapsed": true
   },
   "outputs": [],
   "source": [
    "\n",
    "#run classification\n",
    "parc       = range(1,nparc+1)\n",
    "cv_results = [0 for x in parc]\n",
    "num_cores  = multiprocessing.cpu_count()\n",
    "#whole brain clf\n",
    "cv_out = cv(fds)\n",
    "#roi-wise clf\n",
    "# cv_results = Parallel(n_jobs=num_cores)(delayed(runCV.runCV)\n",
    "#                                         (p,fds[:, fds.fa.parcel == p],clf,cv,nparc) for p in parc)\n"
   ]
  },
  {
   "cell_type": "code",
   "execution_count": null,
   "metadata": {
    "collapsed": true
   },
   "outputs": [],
   "source": [
    "#get feature weights\n",
    "sensana = clf.get_sensitivity_analyzer()\n",
    "sens    = sensana(fds)\n",
    "\n",
    "\n",
    "#verbose(2, \"total script computation time: %.1f minutes\" % ((time.time() - script_start_time)/60))\n"
   ]
  },
  {
   "cell_type": "code",
   "execution_count": null,
   "metadata": {
    "collapsed": true
   },
   "outputs": [],
   "source": [
    "#convert feature weights to numpy array and save\n",
    "sens_out = np.asarray(sens)\n",
    "np.save(os.path.join(mvpa_path,'cv_results',str(nsubs)+'subs_'+cv_type+'_CV_'+clf_type+'ftrWghts'),\n",
    "        sens_out)"
   ]
  }
 ],
 "metadata": {
  "kernelspec": {
   "display_name": "Python 2",
   "language": "python",
   "name": "python2"
  },
  "language_info": {
   "codemirror_mode": {
    "name": "ipython",
    "version": 2
   },
   "file_extension": ".py",
   "mimetype": "text/x-python",
   "name": "python",
   "nbconvert_exporter": "python",
   "pygments_lexer": "ipython2",
   "version": "2.7.13"
  },
  "toc": {
   "nav_menu": {},
   "number_sections": true,
   "sideBar": true,
   "skip_h1_title": false,
   "toc_cell": false,
   "toc_position": {},
   "toc_section_display": "block",
   "toc_window_display": false
  }
 },
 "nbformat": 4,
 "nbformat_minor": 2
}
